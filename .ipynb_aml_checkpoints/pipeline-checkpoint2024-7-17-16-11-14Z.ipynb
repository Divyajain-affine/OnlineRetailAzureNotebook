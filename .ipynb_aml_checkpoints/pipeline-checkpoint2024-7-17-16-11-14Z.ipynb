{
  "cells": [
    {
      "cell_type": "code",
      "source": [
        "from azureml.core import Workspace, Dataset, Datastore\n",
        "import os\n",
        "from azureml.core.authentication import InteractiveLoginAuthentication\n",
        "from azureml.core import Run\n",
        "\n",
        "import azureml.core\n",
        "from azureml.core.conda_dependencies import CondaDependencies\n",
        "from azureml.core import ComputeTarget\n",
        "\n",
        "from azureml.pipeline.steps import PythonScriptStep\n",
        "from azureml.core import Experiment, Environment\n",
        "from azureml.core.runconfig import RunConfiguration\n",
        "from azureml.pipeline.core import Pipeline\n",
        "\n"
      ],
      "outputs": [],
      "execution_count": 3,
      "metadata": {
        "gather": {
          "logged": 1723899851362
        }
      }
    },
    {
      "cell_type": "code",
      "source": [
        "pip install azureml-pipeline"
      ],
      "outputs": [
        {
          "output_type": "stream",
          "name": "stdout",
          "text": "Collecting azureml-pipeline\n  Downloading azureml_pipeline-1.57.0-py3-none-any.whl.metadata (1.7 kB)\nCollecting azureml-pipeline-core~=1.57.0 (from azureml-pipeline)\n  Downloading azureml_pipeline_core-1.57.0-py3-none-any.whl.metadata (961 bytes)\nCollecting azureml-pipeline-steps~=1.57.0 (from azureml-pipeline)\n  Downloading azureml_pipeline_steps-1.57.0-py3-none-any.whl.metadata (1.1 kB)\nCollecting azureml-core~=1.57.0 (from azureml-pipeline-core~=1.57.0->azureml-pipeline)\n  Downloading azureml_core-1.57.0-py3-none-any.whl.metadata (3.1 kB)\nCollecting azureml-train-core~=1.57.0 (from azureml-pipeline-steps~=1.57.0->azureml-pipeline)\n  Downloading azureml_train_core-1.57.0-py3-none-any.whl.metadata (1.7 kB)\nCollecting azureml-train-automl-client~=1.57.0 (from azureml-pipeline-steps~=1.57.0->azureml-pipeline)\n  Downloading azureml_train_automl_client-1.57.0-py3-none-any.whl.metadata (1.4 kB)\nRequirement already satisfied: pytz in /anaconda/envs/azureml_py310_sdkv2/lib/python3.10/site-packages (from azureml-core~=1.57.0->azureml-pipeline-core~=1.57.0->azureml-pipeline) (2024.1)\nRequirement already satisfied: backports.tempfile in /anaconda/envs/azureml_py310_sdkv2/lib/python3.10/site-packages (from azureml-core~=1.57.0->azureml-pipeline-core~=1.57.0->azureml-pipeline) (1.0)\nRequirement already satisfied: pathspec<1.0.0 in /anaconda/envs/azureml_py310_sdkv2/lib/python3.10/site-packages (from azureml-core~=1.57.0->azureml-pipeline-core~=1.57.0->azureml-pipeline) (0.12.1)\nRequirement already satisfied: requests<3.0.0,>=2.19.1 in /anaconda/envs/azureml_py310_sdkv2/lib/python3.10/site-packages (from requests[socks]<3.0.0,>=2.19.1->azureml-core~=1.57.0->azureml-pipeline-core~=1.57.0->azureml-pipeline) (2.32.3)\nRequirement already satisfied: msal<2.0.0,>=1.15.0 in /anaconda/envs/azureml_py310_sdkv2/lib/python3.10/site-packages (from azureml-core~=1.57.0->azureml-pipeline-core~=1.57.0->azureml-pipeline) (1.28.0)\nRequirement already satisfied: msal-extensions<=2.0.0,>=0.3.0 in /anaconda/envs/azureml_py310_sdkv2/lib/python3.10/site-packages (from azureml-core~=1.57.0->azureml-pipeline-core~=1.57.0->azureml-pipeline) (1.1.0)\nRequirement already satisfied: knack<0.12.0 in /anaconda/envs/azureml_py310_sdkv2/lib/python3.10/site-packages (from azureml-core~=1.57.0->azureml-pipeline-core~=1.57.0->azureml-pipeline) (0.11.0)\nRequirement already satisfied: azure-core<2.0.0 in /anaconda/envs/azureml_py310_sdkv2/lib/python3.10/site-packages (from azureml-core~=1.57.0->azureml-pipeline-core~=1.57.0->azureml-pipeline) (1.30.2)\nRequirement already satisfied: pkginfo in /anaconda/envs/azureml_py310_sdkv2/lib/python3.10/site-packages (from azureml-core~=1.57.0->azureml-pipeline-core~=1.57.0->azureml-pipeline) (1.11.1)\nRequirement already satisfied: argcomplete<4 in /anaconda/envs/azureml_py310_sdkv2/lib/python3.10/site-packages (from azureml-core~=1.57.0->azureml-pipeline-core~=1.57.0->azureml-pipeline) (3.3.0)\nRequirement already satisfied: humanfriendly<11.0,>=4.7 in /anaconda/envs/azureml_py310_sdkv2/lib/python3.10/site-packages (from azureml-core~=1.57.0->azureml-pipeline-core~=1.57.0->azureml-pipeline) (10.0)\nRequirement already satisfied: paramiko<4.0.0,>=2.0.8 in /anaconda/envs/azureml_py310_sdkv2/lib/python3.10/site-packages (from azureml-core~=1.57.0->azureml-pipeline-core~=1.57.0->azureml-pipeline) (3.4.0)\nRequirement already satisfied: azure-mgmt-resource<=24.0.0,>=15.0.0 in /anaconda/envs/azureml_py310_sdkv2/lib/python3.10/site-packages (from azureml-core~=1.57.0->azureml-pipeline-core~=1.57.0->azureml-pipeline) (23.1.1)\nRequirement already satisfied: azure-mgmt-containerregistry<11,>=8.2.0 in /anaconda/envs/azureml_py310_sdkv2/lib/python3.10/site-packages (from azureml-core~=1.57.0->azureml-pipeline-core~=1.57.0->azureml-pipeline) (10.3.0)\nRequirement already satisfied: azure-mgmt-storage<=22.0.0,>=16.0.0 in /anaconda/envs/azureml_py310_sdkv2/lib/python3.10/site-packages (from azureml-core~=1.57.0->azureml-pipeline-core~=1.57.0->azureml-pipeline) (21.1.0)\nRequirement already satisfied: azure-mgmt-keyvault<11.0.0,>=0.40.0 in /anaconda/envs/azureml_py310_sdkv2/lib/python3.10/site-packages (from azureml-core~=1.57.0->azureml-pipeline-core~=1.57.0->azureml-pipeline) (10.3.0)\nRequirement already satisfied: azure-mgmt-authorization<5,>=0.40.0 in /anaconda/envs/azureml_py310_sdkv2/lib/python3.10/site-packages (from azureml-core~=1.57.0->azureml-pipeline-core~=1.57.0->azureml-pipeline) (4.0.0)\nRequirement already satisfied: azure-mgmt-network<=26.0.0 in /anaconda/envs/azureml_py310_sdkv2/lib/python3.10/site-packages (from azureml-core~=1.57.0->azureml-pipeline-core~=1.57.0->azureml-pipeline) (25.4.0)\nRequirement already satisfied: azure-graphrbac<1.0.0,>=0.40.0 in /anaconda/envs/azureml_py310_sdkv2/lib/python3.10/site-packages (from azureml-core~=1.57.0->azureml-pipeline-core~=1.57.0->azureml-pipeline) (0.61.1)\nRequirement already satisfied: azure-common<2.0.0,>=1.1.12 in /anaconda/envs/azureml_py310_sdkv2/lib/python3.10/site-packages (from azureml-core~=1.57.0->azureml-pipeline-core~=1.57.0->azureml-pipeline) (1.1.28)\nRequirement already satisfied: msrest<=0.7.1,>=0.5.1 in /anaconda/envs/azureml_py310_sdkv2/lib/python3.10/site-packages (from azureml-core~=1.57.0->azureml-pipeline-core~=1.57.0->azureml-pipeline) (0.7.1)\nRequirement already satisfied: msrestazure<=0.7,>=0.4.33 in /anaconda/envs/azureml_py310_sdkv2/lib/python3.10/site-packages (from azureml-core~=1.57.0->azureml-pipeline-core~=1.57.0->azureml-pipeline) (0.6.4)\nRequirement already satisfied: urllib3<3.0.0,>1.26.17 in /anaconda/envs/azureml_py310_sdkv2/lib/python3.10/site-packages (from azureml-core~=1.57.0->azureml-pipeline-core~=1.57.0->azureml-pipeline) (2.2.1)\nRequirement already satisfied: packaging<=25.0,>=20.0 in /anaconda/envs/azureml_py310_sdkv2/lib/python3.10/site-packages (from azureml-core~=1.57.0->azureml-pipeline-core~=1.57.0->azureml-pipeline) (24.0)\nRequirement already satisfied: python-dateutil<3.0.0,>=2.7.3 in /anaconda/envs/azureml_py310_sdkv2/lib/python3.10/site-packages (from azureml-core~=1.57.0->azureml-pipeline-core~=1.57.0->azureml-pipeline) (2.9.0)\nRequirement already satisfied: ndg-httpsclient<=0.5.1 in /anaconda/envs/azureml_py310_sdkv2/lib/python3.10/site-packages (from azureml-core~=1.57.0->azureml-pipeline-core~=1.57.0->azureml-pipeline) (0.5.1)\nRequirement already satisfied: SecretStorage<4.0.0 in /anaconda/envs/azureml_py310_sdkv2/lib/python3.10/site-packages (from azureml-core~=1.57.0->azureml-pipeline-core~=1.57.0->azureml-pipeline) (3.3.3)\nRequirement already satisfied: jsonpickle<4.0.0 in /anaconda/envs/azureml_py310_sdkv2/lib/python3.10/site-packages (from azureml-core~=1.57.0->azureml-pipeline-core~=1.57.0->azureml-pipeline) (3.2.1)\nRequirement already satisfied: contextlib2<22.0.0 in /anaconda/envs/azureml_py310_sdkv2/lib/python3.10/site-packages (from azureml-core~=1.57.0->azureml-pipeline-core~=1.57.0->azureml-pipeline) (21.6.0)\nRequirement already satisfied: docker<8.0.0 in /anaconda/envs/azureml_py310_sdkv2/lib/python3.10/site-packages (from azureml-core~=1.57.0->azureml-pipeline-core~=1.57.0->azureml-pipeline) (7.1.0)\nRequirement already satisfied: PyJWT<3.0.0 in /anaconda/envs/azureml_py310_sdkv2/lib/python3.10/site-packages (from azureml-core~=1.57.0->azureml-pipeline-core~=1.57.0->azureml-pipeline) (2.8.0)\nRequirement already satisfied: adal<=1.2.7,>=1.2.0 in /anaconda/envs/azureml_py310_sdkv2/lib/python3.10/site-packages (from azureml-core~=1.57.0->azureml-pipeline-core~=1.57.0->azureml-pipeline) (1.2.7)\nRequirement already satisfied: pyopenssl<25.0.0 in /anaconda/envs/azureml_py310_sdkv2/lib/python3.10/site-packages (from azureml-core~=1.57.0->azureml-pipeline-core~=1.57.0->azureml-pipeline) (24.1.0)\nRequirement already satisfied: jmespath<2.0.0 in /anaconda/envs/azureml_py310_sdkv2/lib/python3.10/site-packages (from azureml-core~=1.57.0->azureml-pipeline-core~=1.57.0->azureml-pipeline) (1.0.1)\nCollecting azureml-automl-core~=1.57.0 (from azureml-train-automl-client~=1.57.0->azureml-pipeline-steps~=1.57.0->azureml-pipeline)\n  Downloading azureml_automl_core-1.57.0-py3-none-any.whl.metadata (1.8 kB)\nCollecting azureml-dataset-runtime~=1.57.0 (from azureml-train-automl-client~=1.57.0->azureml-pipeline-steps~=1.57.0->azureml-pipeline)\n  Downloading azureml_dataset_runtime-1.57.0-py3-none-any.whl.metadata (1.2 kB)\nCollecting azureml-telemetry~=1.57.0 (from azureml-train-automl-client~=1.57.0->azureml-pipeline-steps~=1.57.0->azureml-pipeline)\n  Downloading azureml_telemetry-1.57.0-py3-none-any.whl.metadata (1.1 kB)\nCollecting azureml-train-restclients-hyperdrive~=1.57.0 (from azureml-train-core~=1.57.0->azureml-pipeline-steps~=1.57.0->azureml-pipeline)\n  Downloading azureml_train_restclients_hyperdrive-1.57.0-py3-none-any.whl.metadata (1.2 kB)\nRequirement already satisfied: cryptography>=1.1.0 in /anaconda/envs/azureml_py310_sdkv2/lib/python3.10/site-packages (from adal<=1.2.7,>=1.2.0->azureml-core~=1.57.0->azureml-pipeline-core~=1.57.0->azureml-pipeline) (42.0.8)\nRequirement already satisfied: six>=1.11.0 in /anaconda/envs/azureml_py310_sdkv2/lib/python3.10/site-packages (from azure-core<2.0.0->azureml-core~=1.57.0->azureml-pipeline-core~=1.57.0->azureml-pipeline) (1.16.0)\nRequirement already satisfied: typing-extensions>=4.6.0 in /anaconda/envs/azureml_py310_sdkv2/lib/python3.10/site-packages (from azure-core<2.0.0->azureml-core~=1.57.0->azureml-pipeline-core~=1.57.0->azureml-pipeline) (4.12.2)\nRequirement already satisfied: isodate<1.0.0,>=0.6.1 in /anaconda/envs/azureml_py310_sdkv2/lib/python3.10/site-packages (from azure-mgmt-authorization<5,>=0.40.0->azureml-core~=1.57.0->azureml-pipeline-core~=1.57.0->azureml-pipeline) (0.6.1)\nRequirement already satisfied: azure-mgmt-core<2.0.0,>=1.3.2 in /anaconda/envs/azureml_py310_sdkv2/lib/python3.10/site-packages (from azure-mgmt-authorization<5,>=0.40.0->azureml-core~=1.57.0->azureml-pipeline-core~=1.57.0->azureml-pipeline) (1.4.0)\nRequirement already satisfied: importlib-metadata<=8.2.0 in /anaconda/envs/azureml_py310_sdkv2/lib/python3.10/site-packages (from azureml-automl-core~=1.57.0->azureml-train-automl-client~=1.57.0->azureml-pipeline-steps~=1.57.0->azureml-pipeline) (7.1.0)\nCollecting importlib-resources<=6.4.0 (from azureml-automl-core~=1.57.0->azureml-train-automl-client~=1.57.0->azureml-pipeline-steps~=1.57.0->azureml-pipeline)\n  Downloading importlib_resources-6.4.0-py3-none-any.whl.metadata (3.9 kB)\nRequirement already satisfied: azureml-dataprep<5.2.0a,>=5.1.0a in /anaconda/envs/azureml_py310_sdkv2/lib/python3.10/site-packages (from azureml-dataset-runtime~=1.57.0->azureml-train-automl-client~=1.57.0->azureml-pipeline-steps~=1.57.0->azureml-pipeline) (5.1.6)\nRequirement already satisfied: pyarrow>=0.17.0 in /anaconda/envs/azureml_py310_sdkv2/lib/python3.10/site-packages (from azureml-dataset-runtime~=1.57.0->azureml-train-automl-client~=1.57.0->azureml-pipeline-steps~=1.57.0->azureml-pipeline) (15.0.2)\nRequirement already satisfied: numpy!=1.19.3,<1.24 in /anaconda/envs/azureml_py310_sdkv2/lib/python3.10/site-packages (from azureml-dataset-runtime~=1.57.0->azureml-train-automl-client~=1.57.0->azureml-pipeline-steps~=1.57.0->azureml-pipeline) (1.23.5)\nCollecting applicationinsights (from azureml-telemetry~=1.57.0->azureml-train-automl-client~=1.57.0->azureml-pipeline-steps~=1.57.0->azureml-pipeline)\n  Downloading applicationinsights-0.11.10-py2.py3-none-any.whl.metadata (982 bytes)\nRequirement already satisfied: pygments in /anaconda/envs/azureml_py310_sdkv2/lib/python3.10/site-packages (from knack<0.12.0->azureml-core~=1.57.0->azureml-pipeline-core~=1.57.0->azureml-pipeline) (2.18.0)\nRequirement already satisfied: pyyaml in /anaconda/envs/azureml_py310_sdkv2/lib/python3.10/site-packages (from knack<0.12.0->azureml-core~=1.57.0->azureml-pipeline-core~=1.57.0->azureml-pipeline) (6.0.1)\nRequirement already satisfied: tabulate in /anaconda/envs/azureml_py310_sdkv2/lib/python3.10/site-packages (from knack<0.12.0->azureml-core~=1.57.0->azureml-pipeline-core~=1.57.0->azureml-pipeline) (0.9.0)\nRequirement already satisfied: portalocker<3,>=1.0 in /anaconda/envs/azureml_py310_sdkv2/lib/python3.10/site-packages (from msal-extensions<=2.0.0,>=0.3.0->azureml-core~=1.57.0->azureml-pipeline-core~=1.57.0->azureml-pipeline) (2.8.2)\nRequirement already satisfied: certifi>=2017.4.17 in /anaconda/envs/azureml_py310_sdkv2/lib/python3.10/site-packages (from msrest<=0.7.1,>=0.5.1->azureml-core~=1.57.0->azureml-pipeline-core~=1.57.0->azureml-pipeline) (2024.6.2)\nRequirement already satisfied: requests-oauthlib>=0.5.0 in /anaconda/envs/azureml_py310_sdkv2/lib/python3.10/site-packages (from msrest<=0.7.1,>=0.5.1->azureml-core~=1.57.0->azureml-pipeline-core~=1.57.0->azureml-pipeline) (2.0.0)\nRequirement already satisfied: pyasn1>=0.1.1 in /anaconda/envs/azureml_py310_sdkv2/lib/python3.10/site-packages (from ndg-httpsclient<=0.5.1->azureml-core~=1.57.0->azureml-pipeline-core~=1.57.0->azureml-pipeline) (0.6.0)\nRequirement already satisfied: bcrypt>=3.2 in /anaconda/envs/azureml_py310_sdkv2/lib/python3.10/site-packages (from paramiko<4.0.0,>=2.0.8->azureml-core~=1.57.0->azureml-pipeline-core~=1.57.0->azureml-pipeline) (4.1.3)\nRequirement already satisfied: pynacl>=1.5 in /anaconda/envs/azureml_py310_sdkv2/lib/python3.10/site-packages (from paramiko<4.0.0,>=2.0.8->azureml-core~=1.57.0->azureml-pipeline-core~=1.57.0->azureml-pipeline) (1.5.0)\nRequirement already satisfied: charset-normalizer<4,>=2 in /anaconda/envs/azureml_py310_sdkv2/lib/python3.10/site-packages (from requests<3.0.0,>=2.19.1->requests[socks]<3.0.0,>=2.19.1->azureml-core~=1.57.0->azureml-pipeline-core~=1.57.0->azureml-pipeline) (3.3.2)\nRequirement already satisfied: idna<4,>=2.5 in /anaconda/envs/azureml_py310_sdkv2/lib/python3.10/site-packages (from requests<3.0.0,>=2.19.1->requests[socks]<3.0.0,>=2.19.1->azureml-core~=1.57.0->azureml-pipeline-core~=1.57.0->azureml-pipeline) (3.7)\nRequirement already satisfied: PySocks!=1.5.7,>=1.5.6 in /anaconda/envs/azureml_py310_sdkv2/lib/python3.10/site-packages (from requests[socks]<3.0.0,>=2.19.1->azureml-core~=1.57.0->azureml-pipeline-core~=1.57.0->azureml-pipeline) (1.7.1)\nRequirement already satisfied: jeepney>=0.6 in /anaconda/envs/azureml_py310_sdkv2/lib/python3.10/site-packages (from SecretStorage<4.0.0->azureml-core~=1.57.0->azureml-pipeline-core~=1.57.0->azureml-pipeline) (0.8.0)\nRequirement already satisfied: backports.weakref in /anaconda/envs/azureml_py310_sdkv2/lib/python3.10/site-packages (from backports.tempfile->azureml-core~=1.57.0->azureml-pipeline-core~=1.57.0->azureml-pipeline) (1.0.post1)\nRequirement already satisfied: azureml-dataprep-native<42.0.0,>=41.0.0 in /anaconda/envs/azureml_py310_sdkv2/lib/python3.10/site-packages (from azureml-dataprep<5.2.0a,>=5.1.0a->azureml-dataset-runtime~=1.57.0->azureml-train-automl-client~=1.57.0->azureml-pipeline-steps~=1.57.0->azureml-pipeline) (41.0.0)\nRequirement already satisfied: azureml-dataprep-rslex~=2.22.2dev0 in /anaconda/envs/azureml_py310_sdkv2/lib/python3.10/site-packages (from azureml-dataprep<5.2.0a,>=5.1.0a->azureml-dataset-runtime~=1.57.0->azureml-train-automl-client~=1.57.0->azureml-pipeline-steps~=1.57.0->azureml-pipeline) (2.22.2)\nRequirement already satisfied: cloudpickle<3.0.0,>=1.1.0 in /anaconda/envs/azureml_py310_sdkv2/lib/python3.10/site-packages (from azureml-dataprep<5.2.0a,>=5.1.0a->azureml-dataset-runtime~=1.57.0->azureml-train-automl-client~=1.57.0->azureml-pipeline-steps~=1.57.0->azureml-pipeline) (2.2.1)\nRequirement already satisfied: azure-identity>=1.7.0 in /anaconda/envs/azureml_py310_sdkv2/lib/python3.10/site-packages (from azureml-dataprep<5.2.0a,>=5.1.0a->azureml-dataset-runtime~=1.57.0->azureml-train-automl-client~=1.57.0->azureml-pipeline-steps~=1.57.0->azureml-pipeline) (1.16.0)\nRequirement already satisfied: jsonschema in /anaconda/envs/azureml_py310_sdkv2/lib/python3.10/site-packages (from azureml-dataprep<5.2.0a,>=5.1.0a->azureml-dataset-runtime~=1.57.0->azureml-train-automl-client~=1.57.0->azureml-pipeline-steps~=1.57.0->azureml-pipeline) (4.22.0)\nRequirement already satisfied: cffi>=1.12 in /anaconda/envs/azureml_py310_sdkv2/lib/python3.10/site-packages (from cryptography>=1.1.0->adal<=1.2.7,>=1.2.0->azureml-core~=1.57.0->azureml-pipeline-core~=1.57.0->azureml-pipeline) (1.16.0)\nRequirement already satisfied: zipp>=0.5 in /anaconda/envs/azureml_py310_sdkv2/lib/python3.10/site-packages (from importlib-metadata<=8.2.0->azureml-automl-core~=1.57.0->azureml-train-automl-client~=1.57.0->azureml-pipeline-steps~=1.57.0->azureml-pipeline) (3.19.2)\nRequirement already satisfied: oauthlib>=3.0.0 in /anaconda/envs/azureml_py310_sdkv2/lib/python3.10/site-packages (from requests-oauthlib>=0.5.0->msrest<=0.7.1,>=0.5.1->azureml-core~=1.57.0->azureml-pipeline-core~=1.57.0->azureml-pipeline) (3.2.2)\nRequirement already satisfied: pycparser in /anaconda/envs/azureml_py310_sdkv2/lib/python3.10/site-packages (from cffi>=1.12->cryptography>=1.1.0->adal<=1.2.7,>=1.2.0->azureml-core~=1.57.0->azureml-pipeline-core~=1.57.0->azureml-pipeline) (2.22)\nRequirement already satisfied: attrs>=22.2.0 in /anaconda/envs/azureml_py310_sdkv2/lib/python3.10/site-packages (from jsonschema->azureml-dataprep<5.2.0a,>=5.1.0a->azureml-dataset-runtime~=1.57.0->azureml-train-automl-client~=1.57.0->azureml-pipeline-steps~=1.57.0->azureml-pipeline) (23.2.0)\nRequirement already satisfied: jsonschema-specifications>=2023.03.6 in /anaconda/envs/azureml_py310_sdkv2/lib/python3.10/site-packages (from jsonschema->azureml-dataprep<5.2.0a,>=5.1.0a->azureml-dataset-runtime~=1.57.0->azureml-train-automl-client~=1.57.0->azureml-pipeline-steps~=1.57.0->azureml-pipeline) (2023.12.1)\nRequirement already satisfied: referencing>=0.28.4 in /anaconda/envs/azureml_py310_sdkv2/lib/python3.10/site-packages (from jsonschema->azureml-dataprep<5.2.0a,>=5.1.0a->azureml-dataset-runtime~=1.57.0->azureml-train-automl-client~=1.57.0->azureml-pipeline-steps~=1.57.0->azureml-pipeline) (0.35.1)\nRequirement already satisfied: rpds-py>=0.7.1 in /anaconda/envs/azureml_py310_sdkv2/lib/python3.10/site-packages (from jsonschema->azureml-dataprep<5.2.0a,>=5.1.0a->azureml-dataset-runtime~=1.57.0->azureml-train-automl-client~=1.57.0->azureml-pipeline-steps~=1.57.0->azureml-pipeline) (0.18.1)\nDownloading azureml_pipeline-1.57.0-py3-none-any.whl (2.4 kB)\nDownloading azureml_pipeline_core-1.57.0-py3-none-any.whl (313 kB)\n\u001b[2K   \u001b[90m━━━━━━━━━━━━━━━━━━━━━━━━━━━━━━━━━━━━━━━━\u001b[0m \u001b[32m313.7/313.7 kB\u001b[0m \u001b[31m9.7 MB/s\u001b[0m eta \u001b[36m0:00:00\u001b[0m\n\u001b[?25hDownloading azureml_pipeline_steps-1.57.0-py3-none-any.whl (69 kB)\n\u001b[2K   \u001b[90m━━━━━━━━━━━━━━━━━━━━━━━━━━━━━━━━━━━━━━━━\u001b[0m \u001b[32m69.6/69.6 kB\u001b[0m \u001b[31m4.7 MB/s\u001b[0m eta \u001b[36m0:00:00\u001b[0m\n\u001b[?25hDownloading azureml_core-1.57.0-py3-none-any.whl (3.3 MB)\n\u001b[2K   \u001b[90m━━━━━━━━━━━━━━━━━━━━━━━━━━━━━━━━━━━━━━━━\u001b[0m \u001b[32m3.3/3.3 MB\u001b[0m \u001b[31m73.0 MB/s\u001b[0m eta \u001b[36m0:00:00\u001b[0m:00:01\u001b[0m\n\u001b[?25hDownloading azureml_train_automl_client-1.57.0-py3-none-any.whl (137 kB)\n\u001b[2K   \u001b[90m━━━━━━━━━━━━━━━━━━━━━━━━━━━━━━━━━━━━━━━━\u001b[0m \u001b[32m137.6/137.6 kB\u001b[0m \u001b[31m8.1 MB/s\u001b[0m eta \u001b[36m0:00:00\u001b[0m\n\u001b[?25hDownloading azureml_train_core-1.57.0-py3-none-any.whl (8.6 MB)\n\u001b[2K   \u001b[90m━━━━━━━━━━━━━━━━━━━━━━━━━━━━━━━━━━━━━━━━\u001b[0m \u001b[32m8.6/8.6 MB\u001b[0m \u001b[31m122.5 MB/s\u001b[0m eta \u001b[36m0:00:00\u001b[0m00:01\u001b[0m\n\u001b[?25hDownloading azureml_automl_core-1.57.0-py3-none-any.whl (249 kB)\n\u001b[2K   \u001b[90m━━━━━━━━━━━━━━━━━━━━━━━━━━━━━━━━━━━━━━━━\u001b[0m \u001b[32m249.6/249.6 kB\u001b[0m \u001b[31m13.6 MB/s\u001b[0m eta \u001b[36m0:00:00\u001b[0m\n\u001b[?25hDownloading azureml_dataset_runtime-1.57.0-py3-none-any.whl (2.2 kB)\nDownloading azureml_telemetry-1.57.0-py3-none-any.whl (30 kB)\nDownloading azureml_train_restclients_hyperdrive-1.57.0-py3-none-any.whl (18 kB)\nDownloading importlib_resources-6.4.0-py3-none-any.whl (38 kB)\nDownloading applicationinsights-0.11.10-py2.py3-none-any.whl (55 kB)\n\u001b[2K   \u001b[90m━━━━━━━━━━━━━━━━━━━━━━━━━━━━━━━━━━━━━━━━\u001b[0m \u001b[32m55.1/55.1 kB\u001b[0m \u001b[31m3.5 MB/s\u001b[0m eta \u001b[36m0:00:00\u001b[0m\n\u001b[?25hInstalling collected packages: applicationinsights, importlib-resources, azureml-train-restclients-hyperdrive, azureml-core, azureml-telemetry, azureml-pipeline-core, azureml-train-core, azureml-dataset-runtime, azureml-automl-core, azureml-train-automl-client, azureml-pipeline-steps, azureml-pipeline\n  Attempting uninstall: azureml-core\n    Found existing installation: azureml-core 1.56.0\n    Uninstalling azureml-core-1.56.0:\n      Successfully uninstalled azureml-core-1.56.0\nSuccessfully installed applicationinsights-0.11.10 azureml-automl-core-1.57.0 azureml-core-1.57.0 azureml-dataset-runtime-1.57.0 azureml-pipeline-1.57.0 azureml-pipeline-core-1.57.0 azureml-pipeline-steps-1.57.0 azureml-telemetry-1.57.0 azureml-train-automl-client-1.57.0 azureml-train-core-1.57.0 azureml-train-restclients-hyperdrive-1.57.0 importlib-resources-6.4.0\nNote: you may need to restart the kernel to use updated packages.\n"
        }
      ],
      "execution_count": 3,
      "metadata": {
        "jupyter": {
          "source_hidden": false,
          "outputs_hidden": false
        },
        "nteract": {
          "transient": {
            "deleting": false
          }
        },
        "gather": {
          "logged": 1723898000941
        }
      }
    },
    {
      "cell_type": "code",
      "source": [
        "ws = Workspace.from_config(\"Users/mypersonall3099/Online_retail/config.json\") \n"
      ],
      "outputs": [],
      "execution_count": 17,
      "metadata": {
        "jupyter": {
          "source_hidden": false,
          "outputs_hidden": false
        },
        "nteract": {
          "transient": {
            "deleting": false
          }
        },
        "gather": {
          "logged": 1723900996753
        }
      }
    },
    {
      "cell_type": "code",
      "source": [
        "compute_name = \"OnlineRetail\"\n",
        "#vm_size = \"Standard_E4ds_v4\"\n",
        "vm_size = \"Standard_E8ds_v4\"\n",
        "compute_target = ws.compute_targets[compute_name]"
      ],
      "outputs": [],
      "execution_count": 75,
      "metadata": {
        "jupyter": {
          "source_hidden": false,
          "outputs_hidden": false
        },
        "nteract": {
          "transient": {
            "deleting": false
          }
        },
        "gather": {
          "logged": 1723906696278
        }
      }
    },
    {
      "cell_type": "code",
      "source": [
        "from azureml.core import Environment\n",
        "\n",
        "env = Environment.from_conda_specification(name=\"myenv\", file_path=\"environment.yaml\")\n",
        "env.register(workspace=ws)\n"
      ],
      "outputs": [
        {
          "output_type": "execute_result",
          "execution_count": 76,
          "data": {
            "text/plain": "{\n    \"assetId\": \"azureml://locations/eastus2/workspaces/7ce76f32-f5fe-4dd3-b900-96fb92b58ebb/environments/myenv/versions/1\",\n    \"databricks\": {\n        \"eggLibraries\": [],\n        \"jarLibraries\": [],\n        \"mavenLibraries\": [],\n        \"pypiLibraries\": [],\n        \"rcranLibraries\": []\n    },\n    \"docker\": {\n        \"arguments\": [],\n        \"baseDockerfile\": null,\n        \"baseImage\": \"mcr.microsoft.com/azureml/openmpi4.1.0-ubuntu20.04:20240709.v1\",\n        \"baseImageRegistry\": {\n            \"address\": null,\n            \"password\": null,\n            \"registryIdentity\": null,\n            \"username\": null\n        },\n        \"buildContext\": null,\n        \"enabled\": false,\n        \"platform\": {\n            \"architecture\": \"amd64\",\n            \"os\": \"Linux\"\n        },\n        \"sharedVolumes\": true,\n        \"shmSize\": null\n    },\n    \"environmentVariables\": {\n        \"EXAMPLE_ENV_VAR\": \"EXAMPLE_VALUE\"\n    },\n    \"inferencingStackVersion\": null,\n    \"name\": \"myenv\",\n    \"python\": {\n        \"baseCondaEnvironment\": null,\n        \"condaDependencies\": {\n            \"channels\": [\n                \"defaults\"\n            ],\n            \"dependencies\": [\n                \"python=3.7\",\n                \"pandas\",\n                \"scikit-learn\",\n                \"statsmodels\",\n                \"pip\",\n                {\n                    \"pip\": [\n                        \"pmdarima\",\n                        \"azureml-sdk\",\n                        \"azureml-dataset-runtime[fuse, pandas]\",\n                        \"seaborn\",\n                        \"pandas\"\n                    ]\n                }\n            ],\n            \"name\": \"myenv\"\n        },\n        \"condaDependenciesFile\": null,\n        \"interpreterPath\": \"python\",\n        \"userManagedDependencies\": false\n    },\n    \"r\": null,\n    \"spark\": {\n        \"packages\": [],\n        \"precachePackages\": true,\n        \"repositories\": []\n    },\n    \"version\": \"1\"\n}"
          },
          "metadata": {}
        }
      ],
      "execution_count": 76,
      "metadata": {
        "jupyter": {
          "source_hidden": false,
          "outputs_hidden": false
        },
        "nteract": {
          "transient": {
            "deleting": false
          }
        },
        "gather": {
          "logged": 1723906697583
        }
      }
    },
    {
      "cell_type": "code",
      "source": [
        "from azureml.core import Environment\n",
        "\n",
        "env = Environment.get(workspace=ws, name=\"myenv\")\n",
        "print(env.python.conda_dependencies.serialize_to_string())\n"
      ],
      "outputs": [
        {
          "output_type": "stream",
          "name": "stdout",
          "text": "name: myenv\nchannels:\n- defaults\ndependencies:\n- python=3.7\n- pandas\n- scikit-learn\n- statsmodels\n- pip\n- pip:\n  - pmdarima\n  - azureml-sdk\n  - azureml-dataset-runtime[fuse, pandas]\n  - seaborn\n  - pandas\n\n"
        }
      ],
      "execution_count": 77,
      "metadata": {
        "jupyter": {
          "source_hidden": false,
          "outputs_hidden": false
        },
        "nteract": {
          "transient": {
            "deleting": false
          }
        },
        "gather": {
          "logged": 1723906698358
        }
      }
    },
    {
      "cell_type": "code",
      "source": [
        "#Declaring environment\n",
        "aml_config = RunConfiguration()\n",
        "aml_config.target = compute_target \n",
        "\n",
        "env = Environment.from_conda_specification(name=\"myenv\", file_path=\"environment.yaml\")"
      ],
      "outputs": [],
      "execution_count": 78,
      "metadata": {
        "jupyter": {
          "source_hidden": false,
          "outputs_hidden": false
        },
        "nteract": {
          "transient": {
            "deleting": false
          }
        },
        "gather": {
          "logged": 1723906705944
        }
      }
    },
    {
      "cell_type": "code",
      "source": [
        "#Pipeline\n",
        "read_data = 'data_wrangling.py'\n",
        "prep = 'preprocessing.py'\n",
        "model = 'modelling.py'\n",
        "\n",
        "#Script initialization\n",
        "py_script_run_read = PythonScriptStep(\n",
        "                script_name = read_data,\n",
        "                compute_target = compute_target,\n",
        "                arguments=['--input-data','online_retail_II.csv'],\n",
        "                runconfig = aml_config,\n",
        "                allow_reuse=False)\n",
        "\n",
        "py_script_run_prep = PythonScriptStep(\n",
        "                script_name = prep,\n",
        "                compute_target=compute_target,\n",
        "                arguments=['--prep','wranggled.csv'],\n",
        "                runconfig = aml_config,\n",
        "                allow_reuse=False)\n",
        "\n",
        "py_script_run_model = PythonScriptStep(\n",
        "                script_name = model,\n",
        "                compute_target=compute_target,\n",
        "                arguments=['--train','preprocessed.csv'],\n",
        "                runconfig = aml_config,\n",
        "                allow_reuse=False)\n",
        "\n",
        "pipeline_steps = [py_script_run_read, py_script_run_prep, py_script_run_model]\n",
        "pipeline_1 = Pipeline(workspace=ws, steps = pipeline_steps)"
      ],
      "outputs": [],
      "execution_count": 79,
      "metadata": {
        "jupyter": {
          "source_hidden": false,
          "outputs_hidden": false
        },
        "nteract": {
          "transient": {
            "deleting": false
          }
        },
        "gather": {
          "logged": 1723906709268
        }
      }
    },
    {
      "cell_type": "code",
      "source": [
        "# Experiment\n",
        "\n",
        "pipeline_run = Experiment(ws, \"First_run_7\").submit(pipeline_1)\n",
        "pipeline_run.wait_for_completion(show_output=True)"
      ],
      "outputs": [
        {
          "output_type": "stream",
          "name": "stdout",
          "text": "Submitted PipelineRun c6cc82fe-2d0a-425b-b534-bbb885e45576\nLink to Azure Machine Learning Portal: https://ml.azure.com/runs/c6cc82fe-2d0a-425b-b534-bbb885e45576?wsid=/subscriptions/d8c4fe8f-f720-48ac-86e8-880576d9cd7a/resourcegroups/OnlineRetail/workspaces/OnlineRetail&tid=f56f1f69-458e-427b-bada-4cba658f7917\nPipelineRunId: c6cc82fe-2d0a-425b-b534-bbb885e45576\nLink to Azure Machine Learning Portal: https://ml.azure.com/runs/c6cc82fe-2d0a-425b-b534-bbb885e45576?wsid=/subscriptions/d8c4fe8f-f720-48ac-86e8-880576d9cd7a/resourcegroups/OnlineRetail/workspaces/OnlineRetail&tid=f56f1f69-458e-427b-bada-4cba658f7917\nPipelineRun Status: NotStarted\nPipelineRun Status: Running\n\n\nStepRunId: b8b03587-b6ca-4dd3-a0d4-f48947d08d8e\nLink to Azure Machine Learning Portal: https://ml.azure.com/runs/b8b03587-b6ca-4dd3-a0d4-f48947d08d8e?wsid=/subscriptions/d8c4fe8f-f720-48ac-86e8-880576d9cd7a/resourcegroups/OnlineRetail/workspaces/OnlineRetail&tid=f56f1f69-458e-427b-bada-4cba658f7917\nStepRun( preprocessing.py ) Status: NotStarted\n\nStepRun(preprocessing.py) Execution Summary\n============================================\nStepRun( preprocessing.py ) Status: Failed\n\nWarnings:\nExecution failed. User process '/azureml-envs/azureml_f3f7e6c5fb83d94df23933000bf02da3/bin/python' exited with status code 1. Please check log file 'user_logs/std_log.txt' for error details. Error: Traceback (most recent call last):\n  File \"preprocessing.py\", line 2, in <module>\n    import pandas as pd\nModuleNotFoundError: No module named 'pandas'\n\n\n"
        },
        {
          "output_type": "error",
          "ename": "ActivityFailedException",
          "evalue": "ActivityFailedException:\n\tMessage: Activity Failed:\n{\n    \"error\": {\n        \"code\": \"UserError\",\n        \"message\": \"Execution failed. User process '/azureml-envs/azureml_f3f7e6c5fb83d94df23933000bf02da3/bin/python' exited with status code 1. Please check log file 'user_logs/std_log.txt' for error details. Error: Traceback (most recent call last):\\n  File \\\"preprocessing.py\\\", line 2, in <module>\\n    import pandas as pd\\nModuleNotFoundError: No module named 'pandas'\\n\\n\",\n        \"messageParameters\": {},\n        \"details\": []\n    },\n    \"time\": \"0001-01-01T00:00:00.000Z\",\n    \"componentName\": \"CommonRuntime\"\n}\n\tInnerException None\n\tErrorResponse \n{\n    \"error\": {\n        \"message\": \"Activity Failed:\\n{\\n    \\\"error\\\": {\\n        \\\"code\\\": \\\"UserError\\\",\\n        \\\"message\\\": \\\"Execution failed. User process '/azureml-envs/azureml_f3f7e6c5fb83d94df23933000bf02da3/bin/python' exited with status code 1. Please check log file 'user_logs/std_log.txt' for error details. Error: Traceback (most recent call last):\\\\n  File \\\\\\\"preprocessing.py\\\\\\\", line 2, in <module>\\\\n    import pandas as pd\\\\nModuleNotFoundError: No module named 'pandas'\\\\n\\\\n\\\",\\n        \\\"messageParameters\\\": {},\\n        \\\"details\\\": []\\n    },\\n    \\\"time\\\": \\\"0001-01-01T00:00:00.000Z\\\",\\n    \\\"componentName\\\": \\\"CommonRuntime\\\"\\n}\"\n    }\n}",
          "traceback": [
            "\u001b[0;31m---------------------------------------------------------------------------\u001b[0m",
            "\u001b[0;31mActivityFailedException\u001b[0m                   Traceback (most recent call last)",
            "Cell \u001b[0;32mIn[81], line 4\u001b[0m\n\u001b[1;32m      1\u001b[0m \u001b[38;5;66;03m# Experiment\u001b[39;00m\n\u001b[1;32m      3\u001b[0m pipeline_run \u001b[38;5;241m=\u001b[39m Experiment(ws, \u001b[38;5;124m\"\u001b[39m\u001b[38;5;124mFirst_run_7\u001b[39m\u001b[38;5;124m\"\u001b[39m)\u001b[38;5;241m.\u001b[39msubmit(pipeline_1)\n\u001b[0;32m----> 4\u001b[0m \u001b[43mpipeline_run\u001b[49m\u001b[38;5;241;43m.\u001b[39;49m\u001b[43mwait_for_completion\u001b[49m\u001b[43m(\u001b[49m\u001b[43mshow_output\u001b[49m\u001b[38;5;241;43m=\u001b[39;49m\u001b[38;5;28;43;01mTrue\u001b[39;49;00m\u001b[43m)\u001b[49m\n",
            "File \u001b[0;32m/anaconda/envs/azureml_py310_sdkv2/lib/python3.10/site-packages/azureml/pipeline/core/run.py:295\u001b[0m, in \u001b[0;36mPipelineRun.wait_for_completion\u001b[0;34m(self, show_output, timeout_seconds, raise_on_error)\u001b[0m\n\u001b[1;32m    293\u001b[0m \u001b[38;5;28mprint\u001b[39m(\u001b[38;5;124m'\u001b[39m\u001b[38;5;130;01m\\n\u001b[39;00m\u001b[38;5;124m'\u001b[39m)\n\u001b[1;32m    294\u001b[0m \u001b[38;5;28;01mtry\u001b[39;00m:\n\u001b[0;32m--> 295\u001b[0m     \u001b[43mstep_run\u001b[49m\u001b[38;5;241;43m.\u001b[39;49m\u001b[43mwait_for_completion\u001b[49m\u001b[43m(\u001b[49m\u001b[43mtimeout_seconds\u001b[49m\u001b[38;5;241;43m=\u001b[39;49m\u001b[43mtimeout_seconds\u001b[49m\u001b[43m \u001b[49m\u001b[38;5;241;43m-\u001b[39;49m\u001b[43m \u001b[49m\u001b[43mtime_elapsed\u001b[49m\u001b[43m,\u001b[49m\n\u001b[1;32m    296\u001b[0m \u001b[43m                                 \u001b[49m\u001b[43mraise_on_error\u001b[49m\u001b[38;5;241;43m=\u001b[39;49m\u001b[43mraise_on_error\u001b[49m\u001b[43m)\u001b[49m\n\u001b[1;32m    297\u001b[0m \u001b[38;5;28;01mexcept\u001b[39;00m \u001b[38;5;167;01mTypeError\u001b[39;00m \u001b[38;5;28;01mas\u001b[39;00m e:\n\u001b[1;32m    298\u001b[0m     \u001b[38;5;66;03m# If there are package conflicts in the user's environment, the run rehydration\u001b[39;00m\n\u001b[1;32m    299\u001b[0m     \u001b[38;5;66;03m# will not work and we will receive a Run object instead of StepRun.\u001b[39;00m\n\u001b[1;32m    300\u001b[0m     \u001b[38;5;66;03m# Run.wait_for_completion() does not have a parameter timeout_seconds, which\u001b[39;00m\n\u001b[1;32m    301\u001b[0m     \u001b[38;5;66;03m# will generate a TypeError here.  As a workaround, call the method without\u001b[39;00m\n\u001b[1;32m    302\u001b[0m     \u001b[38;5;66;03m# this parameter.\u001b[39;00m\n\u001b[1;32m    303\u001b[0m     \u001b[38;5;28;01mif\u001b[39;00m \u001b[38;5;129;01mnot\u001b[39;00m \u001b[38;5;28misinstance\u001b[39m(step_run, StepRun):\n",
            "File \u001b[0;32m/anaconda/envs/azureml_py310_sdkv2/lib/python3.10/site-packages/azureml/pipeline/core/run.py:742\u001b[0m, in \u001b[0;36mStepRun.wait_for_completion\u001b[0;34m(self, show_output, timeout_seconds, raise_on_error)\u001b[0m\n\u001b[1;32m    740\u001b[0m \u001b[38;5;28;01mif\u001b[39;00m show_output:\n\u001b[1;32m    741\u001b[0m     \u001b[38;5;28;01mtry\u001b[39;00m:\n\u001b[0;32m--> 742\u001b[0m         \u001b[38;5;28;01mreturn\u001b[39;00m \u001b[38;5;28;43mself\u001b[39;49m\u001b[38;5;241;43m.\u001b[39;49m\u001b[43m_stream_run_output\u001b[49m\u001b[43m(\u001b[49m\u001b[43mtimeout_seconds\u001b[49m\u001b[38;5;241;43m=\u001b[39;49m\u001b[43mtimeout_seconds\u001b[49m\u001b[43m,\u001b[49m\n\u001b[1;32m    743\u001b[0m \u001b[43m                                       \u001b[49m\u001b[43mraise_on_error\u001b[49m\u001b[38;5;241;43m=\u001b[39;49m\u001b[43mraise_on_error\u001b[49m\u001b[43m)\u001b[49m\n\u001b[1;32m    744\u001b[0m     \u001b[38;5;28;01mexcept\u001b[39;00m \u001b[38;5;167;01mKeyboardInterrupt\u001b[39;00m:\n\u001b[1;32m    745\u001b[0m         error_message \u001b[38;5;241m=\u001b[39m \u001b[38;5;124m\"\u001b[39m\u001b[38;5;124mThe output streaming for the run interrupted.\u001b[39m\u001b[38;5;130;01m\\n\u001b[39;00m\u001b[38;5;124m\"\u001b[39m \\\n\u001b[1;32m    746\u001b[0m                         \u001b[38;5;124m\"\u001b[39m\u001b[38;5;124mBut the run is still executing on the compute target. \u001b[39m\u001b[38;5;130;01m\\n\u001b[39;00m\u001b[38;5;124m\"\u001b[39m \\\n\u001b[1;32m    747\u001b[0m                         \u001b[38;5;124m\"\u001b[39m\u001b[38;5;124mDetails for canceling the run can be found here: \u001b[39m\u001b[38;5;124m\"\u001b[39m \\\n\u001b[1;32m    748\u001b[0m                         \u001b[38;5;124m\"\u001b[39m\u001b[38;5;124mhttps://aka.ms/aml-docs-cancel-run\u001b[39m\u001b[38;5;124m\"\u001b[39m\n",
            "File \u001b[0;32m/anaconda/envs/azureml_py310_sdkv2/lib/python3.10/site-packages/azureml/pipeline/core/run.py:835\u001b[0m, in \u001b[0;36mStepRun._stream_run_output\u001b[0;34m(self, timeout_seconds, raise_on_error)\u001b[0m\n\u001b[1;32m    833\u001b[0m     \u001b[38;5;28mprint\u001b[39m(json\u001b[38;5;241m.\u001b[39mdumps(error, indent\u001b[38;5;241m=\u001b[39m\u001b[38;5;241m4\u001b[39m))\n\u001b[1;32m    834\u001b[0m \u001b[38;5;28;01mif\u001b[39;00m error \u001b[38;5;129;01mand\u001b[39;00m raise_on_error:\n\u001b[0;32m--> 835\u001b[0m     \u001b[38;5;28;01mraise\u001b[39;00m ActivityFailedException(error_details\u001b[38;5;241m=\u001b[39mjson\u001b[38;5;241m.\u001b[39mdumps(error, indent\u001b[38;5;241m=\u001b[39m\u001b[38;5;241m4\u001b[39m))\n\u001b[1;32m    837\u001b[0m \u001b[38;5;28mprint\u001b[39m(final_details)\n\u001b[1;32m    838\u001b[0m \u001b[38;5;28mprint\u001b[39m(\u001b[38;5;124m'\u001b[39m\u001b[38;5;124m'\u001b[39m, flush\u001b[38;5;241m=\u001b[39m\u001b[38;5;28;01mTrue\u001b[39;00m)\n",
            "\u001b[0;31mActivityFailedException\u001b[0m: ActivityFailedException:\n\tMessage: Activity Failed:\n{\n    \"error\": {\n        \"code\": \"UserError\",\n        \"message\": \"Execution failed. User process '/azureml-envs/azureml_f3f7e6c5fb83d94df23933000bf02da3/bin/python' exited with status code 1. Please check log file 'user_logs/std_log.txt' for error details. Error: Traceback (most recent call last):\\n  File \\\"preprocessing.py\\\", line 2, in <module>\\n    import pandas as pd\\nModuleNotFoundError: No module named 'pandas'\\n\\n\",\n        \"messageParameters\": {},\n        \"details\": []\n    },\n    \"time\": \"0001-01-01T00:00:00.000Z\",\n    \"componentName\": \"CommonRuntime\"\n}\n\tInnerException None\n\tErrorResponse \n{\n    \"error\": {\n        \"message\": \"Activity Failed:\\n{\\n    \\\"error\\\": {\\n        \\\"code\\\": \\\"UserError\\\",\\n        \\\"message\\\": \\\"Execution failed. User process '/azureml-envs/azureml_f3f7e6c5fb83d94df23933000bf02da3/bin/python' exited with status code 1. Please check log file 'user_logs/std_log.txt' for error details. Error: Traceback (most recent call last):\\\\n  File \\\\\\\"preprocessing.py\\\\\\\", line 2, in <module>\\\\n    import pandas as pd\\\\nModuleNotFoundError: No module named 'pandas'\\\\n\\\\n\\\",\\n        \\\"messageParameters\\\": {},\\n        \\\"details\\\": []\\n    },\\n    \\\"time\\\": \\\"0001-01-01T00:00:00.000Z\\\",\\n    \\\"componentName\\\": \\\"CommonRuntime\\\"\\n}\"\n    }\n}"
          ]
        }
      ],
      "execution_count": 81,
      "metadata": {
        "jupyter": {
          "source_hidden": false,
          "outputs_hidden": false
        },
        "nteract": {
          "transient": {
            "deleting": false
          }
        },
        "gather": {
          "logged": 1723906960546
        }
      }
    },
    {
      "cell_type": "code",
      "source": [
        "# Experiment 2\n",
        "\n",
        "pipeline_run = Experiment(ws, \"Second_run\").submit(pipeline_1)\n",
        "pipeline_run.wait_for_completion(show_output=True)"
      ],
      "outputs": [],
      "execution_count": null,
      "metadata": {
        "jupyter": {
          "source_hidden": false,
          "outputs_hidden": false
        },
        "nteract": {
          "transient": {
            "deleting": false
          }
        }
      }
    }
  ],
  "metadata": {
    "kernelspec": {
      "name": "python310-sdkv2",
      "language": "python",
      "display_name": "Python 3.10 - SDK v2"
    },
    "language_info": {
      "name": "python",
      "version": "3.10.14",
      "mimetype": "text/x-python",
      "codemirror_mode": {
        "name": "ipython",
        "version": 3
      },
      "pygments_lexer": "ipython3",
      "nbconvert_exporter": "python",
      "file_extension": ".py"
    },
    "microsoft": {
      "ms_spell_check": {
        "ms_spell_check_language": "en"
      },
      "host": {
        "AzureML": {
          "notebookHasBeenCompleted": true
        }
      }
    },
    "kernel_info": {
      "name": "python310-sdkv2"
    },
    "nteract": {
      "version": "nteract-front-end@1.0.0"
    }
  },
  "nbformat": 4,
  "nbformat_minor": 2
}