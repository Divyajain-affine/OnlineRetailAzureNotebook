{
  "cells": [
    {
      "cell_type": "code",
      "source": [
        "pip install azureml-pipeline"
      ],
      "outputs": [
        {
          "output_type": "stream",
          "name": "stdout",
          "text": "Requirement already satisfied: azureml-pipeline in /anaconda/envs/azureml_py310_sdkv2/lib/python3.10/site-packages (1.57.0)\nRequirement already satisfied: azureml-pipeline-core~=1.57.0 in /anaconda/envs/azureml_py310_sdkv2/lib/python3.10/site-packages (from azureml-pipeline) (1.57.0)\nRequirement already satisfied: azureml-pipeline-steps~=1.57.0 in /anaconda/envs/azureml_py310_sdkv2/lib/python3.10/site-packages (from azureml-pipeline) (1.57.0)\nRequirement already satisfied: azureml-core~=1.57.0 in /anaconda/envs/azureml_py310_sdkv2/lib/python3.10/site-packages (from azureml-pipeline-core~=1.57.0->azureml-pipeline) (1.57.0)\nRequirement already satisfied: azureml-train-core~=1.57.0 in /anaconda/envs/azureml_py310_sdkv2/lib/python3.10/site-packages (from azureml-pipeline-steps~=1.57.0->azureml-pipeline) (1.57.0)\nRequirement already satisfied: azureml-train-automl-client~=1.57.0 in /anaconda/envs/azureml_py310_sdkv2/lib/python3.10/site-packages (from azureml-pipeline-steps~=1.57.0->azureml-pipeline) (1.57.0)\nRequirement already satisfied: pytz in /anaconda/envs/azureml_py310_sdkv2/lib/python3.10/site-packages (from azureml-core~=1.57.0->azureml-pipeline-core~=1.57.0->azureml-pipeline) (2024.1)\nRequirement already satisfied: backports.tempfile in /anaconda/envs/azureml_py310_sdkv2/lib/python3.10/site-packages (from azureml-core~=1.57.0->azureml-pipeline-core~=1.57.0->azureml-pipeline) (1.0)\nRequirement already satisfied: pathspec<1.0.0 in /anaconda/envs/azureml_py310_sdkv2/lib/python3.10/site-packages (from azureml-core~=1.57.0->azureml-pipeline-core~=1.57.0->azureml-pipeline) (0.12.1)\nRequirement already satisfied: requests<3.0.0,>=2.19.1 in /anaconda/envs/azureml_py310_sdkv2/lib/python3.10/site-packages (from requests[socks]<3.0.0,>=2.19.1->azureml-core~=1.57.0->azureml-pipeline-core~=1.57.0->azureml-pipeline) (2.32.3)\nRequirement already satisfied: msal<2.0.0,>=1.15.0 in /anaconda/envs/azureml_py310_sdkv2/lib/python3.10/site-packages (from azureml-core~=1.57.0->azureml-pipeline-core~=1.57.0->azureml-pipeline) (1.28.0)\nRequirement already satisfied: msal-extensions<=2.0.0,>=0.3.0 in /anaconda/envs/azureml_py310_sdkv2/lib/python3.10/site-packages (from azureml-core~=1.57.0->azureml-pipeline-core~=1.57.0->azureml-pipeline) (1.1.0)\nRequirement already satisfied: knack<0.12.0 in /anaconda/envs/azureml_py310_sdkv2/lib/python3.10/site-packages (from azureml-core~=1.57.0->azureml-pipeline-core~=1.57.0->azureml-pipeline) (0.11.0)\nRequirement already satisfied: azure-core<2.0.0 in /anaconda/envs/azureml_py310_sdkv2/lib/python3.10/site-packages (from azureml-core~=1.57.0->azureml-pipeline-core~=1.57.0->azureml-pipeline) (1.30.2)\nRequirement already satisfied: pkginfo in /anaconda/envs/azureml_py310_sdkv2/lib/python3.10/site-packages (from azureml-core~=1.57.0->azureml-pipeline-core~=1.57.0->azureml-pipeline) (1.11.1)\nRequirement already satisfied: argcomplete<4 in /anaconda/envs/azureml_py310_sdkv2/lib/python3.10/site-packages (from azureml-core~=1.57.0->azureml-pipeline-core~=1.57.0->azureml-pipeline) (3.3.0)\nRequirement already satisfied: humanfriendly<11.0,>=4.7 in /anaconda/envs/azureml_py310_sdkv2/lib/python3.10/site-packages (from azureml-core~=1.57.0->azureml-pipeline-core~=1.57.0->azureml-pipeline) (10.0)\nRequirement already satisfied: paramiko<4.0.0,>=2.0.8 in /anaconda/envs/azureml_py310_sdkv2/lib/python3.10/site-packages (from azureml-core~=1.57.0->azureml-pipeline-core~=1.57.0->azureml-pipeline) (3.4.0)\nRequirement already satisfied: azure-mgmt-resource<=24.0.0,>=15.0.0 in /anaconda/envs/azureml_py310_sdkv2/lib/python3.10/site-packages (from azureml-core~=1.57.0->azureml-pipeline-core~=1.57.0->azureml-pipeline) (23.1.1)\nRequirement already satisfied: azure-mgmt-containerregistry<11,>=8.2.0 in /anaconda/envs/azureml_py310_sdkv2/lib/python3.10/site-packages (from azureml-core~=1.57.0->azureml-pipeline-core~=1.57.0->azureml-pipeline) (10.3.0)\nRequirement already satisfied: azure-mgmt-storage<=22.0.0,>=16.0.0 in /anaconda/envs/azureml_py310_sdkv2/lib/python3.10/site-packages (from azureml-core~=1.57.0->azureml-pipeline-core~=1.57.0->azureml-pipeline) (21.1.0)\nRequirement already satisfied: azure-mgmt-keyvault<11.0.0,>=0.40.0 in /anaconda/envs/azureml_py310_sdkv2/lib/python3.10/site-packages (from azureml-core~=1.57.0->azureml-pipeline-core~=1.57.0->azureml-pipeline) (10.3.0)\nRequirement already satisfied: azure-mgmt-authorization<5,>=0.40.0 in /anaconda/envs/azureml_py310_sdkv2/lib/python3.10/site-packages (from azureml-core~=1.57.0->azureml-pipeline-core~=1.57.0->azureml-pipeline) (4.0.0)\nRequirement already satisfied: azure-mgmt-network<=26.0.0 in /anaconda/envs/azureml_py310_sdkv2/lib/python3.10/site-packages (from azureml-core~=1.57.0->azureml-pipeline-core~=1.57.0->azureml-pipeline) (25.4.0)\nRequirement already satisfied: azure-graphrbac<1.0.0,>=0.40.0 in /anaconda/envs/azureml_py310_sdkv2/lib/python3.10/site-packages (from azureml-core~=1.57.0->azureml-pipeline-core~=1.57.0->azureml-pipeline) (0.61.1)\nRequirement already satisfied: azure-common<2.0.0,>=1.1.12 in /anaconda/envs/azureml_py310_sdkv2/lib/python3.10/site-packages (from azureml-core~=1.57.0->azureml-pipeline-core~=1.57.0->azureml-pipeline) (1.1.28)\nRequirement already satisfied: msrest<=0.7.1,>=0.5.1 in /anaconda/envs/azureml_py310_sdkv2/lib/python3.10/site-packages (from azureml-core~=1.57.0->azureml-pipeline-core~=1.57.0->azureml-pipeline) (0.7.1)\nRequirement already satisfied: msrestazure<=0.7,>=0.4.33 in /anaconda/envs/azureml_py310_sdkv2/lib/python3.10/site-packages (from azureml-core~=1.57.0->azureml-pipeline-core~=1.57.0->azureml-pipeline) (0.6.4)\nRequirement already satisfied: urllib3<3.0.0,>1.26.17 in /anaconda/envs/azureml_py310_sdkv2/lib/python3.10/site-packages (from azureml-core~=1.57.0->azureml-pipeline-core~=1.57.0->azureml-pipeline) (2.2.1)\nRequirement already satisfied: packaging<=25.0,>=20.0 in /anaconda/envs/azureml_py310_sdkv2/lib/python3.10/site-packages (from azureml-core~=1.57.0->azureml-pipeline-core~=1.57.0->azureml-pipeline) (24.0)\nRequirement already satisfied: python-dateutil<3.0.0,>=2.7.3 in /anaconda/envs/azureml_py310_sdkv2/lib/python3.10/site-packages (from azureml-core~=1.57.0->azureml-pipeline-core~=1.57.0->azureml-pipeline) (2.9.0)\nRequirement already satisfied: ndg-httpsclient<=0.5.1 in /anaconda/envs/azureml_py310_sdkv2/lib/python3.10/site-packages (from azureml-core~=1.57.0->azureml-pipeline-core~=1.57.0->azureml-pipeline) (0.5.1)\nRequirement already satisfied: SecretStorage<4.0.0 in /anaconda/envs/azureml_py310_sdkv2/lib/python3.10/site-packages (from azureml-core~=1.57.0->azureml-pipeline-core~=1.57.0->azureml-pipeline) (3.3.3)\nRequirement already satisfied: jsonpickle<4.0.0 in /anaconda/envs/azureml_py310_sdkv2/lib/python3.10/site-packages (from azureml-core~=1.57.0->azureml-pipeline-core~=1.57.0->azureml-pipeline) (3.2.1)\nRequirement already satisfied: contextlib2<22.0.0 in /anaconda/envs/azureml_py310_sdkv2/lib/python3.10/site-packages (from azureml-core~=1.57.0->azureml-pipeline-core~=1.57.0->azureml-pipeline) (21.6.0)\nRequirement already satisfied: docker<8.0.0 in /anaconda/envs/azureml_py310_sdkv2/lib/python3.10/site-packages (from azureml-core~=1.57.0->azureml-pipeline-core~=1.57.0->azureml-pipeline) (7.1.0)\nRequirement already satisfied: PyJWT<3.0.0 in /anaconda/envs/azureml_py310_sdkv2/lib/python3.10/site-packages (from azureml-core~=1.57.0->azureml-pipeline-core~=1.57.0->azureml-pipeline) (2.8.0)\nRequirement already satisfied: adal<=1.2.7,>=1.2.0 in /anaconda/envs/azureml_py310_sdkv2/lib/python3.10/site-packages (from azureml-core~=1.57.0->azureml-pipeline-core~=1.57.0->azureml-pipeline) (1.2.7)\nRequirement already satisfied: pyopenssl<25.0.0 in /anaconda/envs/azureml_py310_sdkv2/lib/python3.10/site-packages (from azureml-core~=1.57.0->azureml-pipeline-core~=1.57.0->azureml-pipeline) (24.1.0)\nRequirement already satisfied: jmespath<2.0.0 in /anaconda/envs/azureml_py310_sdkv2/lib/python3.10/site-packages (from azureml-core~=1.57.0->azureml-pipeline-core~=1.57.0->azureml-pipeline) (1.0.1)\nRequirement already satisfied: azureml-automl-core~=1.57.0 in /anaconda/envs/azureml_py310_sdkv2/lib/python3.10/site-packages (from azureml-train-automl-client~=1.57.0->azureml-pipeline-steps~=1.57.0->azureml-pipeline) (1.57.0)\nRequirement already satisfied: azureml-dataset-runtime~=1.57.0 in /anaconda/envs/azureml_py310_sdkv2/lib/python3.10/site-packages (from azureml-train-automl-client~=1.57.0->azureml-pipeline-steps~=1.57.0->azureml-pipeline) (1.57.0)\nRequirement already satisfied: azureml-telemetry~=1.57.0 in /anaconda/envs/azureml_py310_sdkv2/lib/python3.10/site-packages (from azureml-train-automl-client~=1.57.0->azureml-pipeline-steps~=1.57.0->azureml-pipeline) (1.57.0)\nRequirement already satisfied: azureml-train-restclients-hyperdrive~=1.57.0 in /anaconda/envs/azureml_py310_sdkv2/lib/python3.10/site-packages (from azureml-train-core~=1.57.0->azureml-pipeline-steps~=1.57.0->azureml-pipeline) (1.57.0)\nRequirement already satisfied: cryptography>=1.1.0 in /anaconda/envs/azureml_py310_sdkv2/lib/python3.10/site-packages (from adal<=1.2.7,>=1.2.0->azureml-core~=1.57.0->azureml-pipeline-core~=1.57.0->azureml-pipeline) (42.0.8)\nRequirement already satisfied: six>=1.11.0 in /anaconda/envs/azureml_py310_sdkv2/lib/python3.10/site-packages (from azure-core<2.0.0->azureml-core~=1.57.0->azureml-pipeline-core~=1.57.0->azureml-pipeline) (1.16.0)\nRequirement already satisfied: typing-extensions>=4.6.0 in /anaconda/envs/azureml_py310_sdkv2/lib/python3.10/site-packages (from azure-core<2.0.0->azureml-core~=1.57.0->azureml-pipeline-core~=1.57.0->azureml-pipeline) (4.12.2)\nRequirement already satisfied: isodate<1.0.0,>=0.6.1 in /anaconda/envs/azureml_py310_sdkv2/lib/python3.10/site-packages (from azure-mgmt-authorization<5,>=0.40.0->azureml-core~=1.57.0->azureml-pipeline-core~=1.57.0->azureml-pipeline) (0.6.1)\nRequirement already satisfied: azure-mgmt-core<2.0.0,>=1.3.2 in /anaconda/envs/azureml_py310_sdkv2/lib/python3.10/site-packages (from azure-mgmt-authorization<5,>=0.40.0->azureml-core~=1.57.0->azureml-pipeline-core~=1.57.0->azureml-pipeline) (1.4.0)\nRequirement already satisfied: importlib-metadata<=8.2.0 in /anaconda/envs/azureml_py310_sdkv2/lib/python3.10/site-packages (from azureml-automl-core~=1.57.0->azureml-train-automl-client~=1.57.0->azureml-pipeline-steps~=1.57.0->azureml-pipeline) (7.1.0)\nRequirement already satisfied: importlib-resources<=6.4.0 in /anaconda/envs/azureml_py310_sdkv2/lib/python3.10/site-packages (from azureml-automl-core~=1.57.0->azureml-train-automl-client~=1.57.0->azureml-pipeline-steps~=1.57.0->azureml-pipeline) (6.4.0)\nRequirement already satisfied: azureml-dataprep<5.2.0a,>=5.1.0a in /anaconda/envs/azureml_py310_sdkv2/lib/python3.10/site-packages (from azureml-dataset-runtime~=1.57.0->azureml-train-automl-client~=1.57.0->azureml-pipeline-steps~=1.57.0->azureml-pipeline) (5.1.6)\nRequirement already satisfied: pyarrow>=0.17.0 in /anaconda/envs/azureml_py310_sdkv2/lib/python3.10/site-packages (from azureml-dataset-runtime~=1.57.0->azureml-train-automl-client~=1.57.0->azureml-pipeline-steps~=1.57.0->azureml-pipeline) (15.0.2)\nRequirement already satisfied: numpy!=1.19.3,<1.24 in /anaconda/envs/azureml_py310_sdkv2/lib/python3.10/site-packages (from azureml-dataset-runtime~=1.57.0->azureml-train-automl-client~=1.57.0->azureml-pipeline-steps~=1.57.0->azureml-pipeline) (1.23.5)\nRequirement already satisfied: applicationinsights in /anaconda/envs/azureml_py310_sdkv2/lib/python3.10/site-packages (from azureml-telemetry~=1.57.0->azureml-train-automl-client~=1.57.0->azureml-pipeline-steps~=1.57.0->azureml-pipeline) (0.11.10)\nRequirement already satisfied: pygments in /anaconda/envs/azureml_py310_sdkv2/lib/python3.10/site-packages (from knack<0.12.0->azureml-core~=1.57.0->azureml-pipeline-core~=1.57.0->azureml-pipeline) (2.18.0)\nRequirement already satisfied: pyyaml in /anaconda/envs/azureml_py310_sdkv2/lib/python3.10/site-packages (from knack<0.12.0->azureml-core~=1.57.0->azureml-pipeline-core~=1.57.0->azureml-pipeline) (6.0.1)\nRequirement already satisfied: tabulate in /anaconda/envs/azureml_py310_sdkv2/lib/python3.10/site-packages (from knack<0.12.0->azureml-core~=1.57.0->azureml-pipeline-core~=1.57.0->azureml-pipeline) (0.9.0)\nRequirement already satisfied: portalocker<3,>=1.0 in /anaconda/envs/azureml_py310_sdkv2/lib/python3.10/site-packages (from msal-extensions<=2.0.0,>=0.3.0->azureml-core~=1.57.0->azureml-pipeline-core~=1.57.0->azureml-pipeline) (2.8.2)\nRequirement already satisfied: certifi>=2017.4.17 in /anaconda/envs/azureml_py310_sdkv2/lib/python3.10/site-packages (from msrest<=0.7.1,>=0.5.1->azureml-core~=1.57.0->azureml-pipeline-core~=1.57.0->azureml-pipeline) (2024.6.2)\nRequirement already satisfied: requests-oauthlib>=0.5.0 in /anaconda/envs/azureml_py310_sdkv2/lib/python3.10/site-packages (from msrest<=0.7.1,>=0.5.1->azureml-core~=1.57.0->azureml-pipeline-core~=1.57.0->azureml-pipeline) (2.0.0)\nRequirement already satisfied: pyasn1>=0.1.1 in /anaconda/envs/azureml_py310_sdkv2/lib/python3.10/site-packages (from ndg-httpsclient<=0.5.1->azureml-core~=1.57.0->azureml-pipeline-core~=1.57.0->azureml-pipeline) (0.6.0)\nRequirement already satisfied: bcrypt>=3.2 in /anaconda/envs/azureml_py310_sdkv2/lib/python3.10/site-packages (from paramiko<4.0.0,>=2.0.8->azureml-core~=1.57.0->azureml-pipeline-core~=1.57.0->azureml-pipeline) (4.1.3)\nRequirement already satisfied: pynacl>=1.5 in /anaconda/envs/azureml_py310_sdkv2/lib/python3.10/site-packages (from paramiko<4.0.0,>=2.0.8->azureml-core~=1.57.0->azureml-pipeline-core~=1.57.0->azureml-pipeline) (1.5.0)\nRequirement already satisfied: charset-normalizer<4,>=2 in /anaconda/envs/azureml_py310_sdkv2/lib/python3.10/site-packages (from requests<3.0.0,>=2.19.1->requests[socks]<3.0.0,>=2.19.1->azureml-core~=1.57.0->azureml-pipeline-core~=1.57.0->azureml-pipeline) (3.3.2)\nRequirement already satisfied: idna<4,>=2.5 in /anaconda/envs/azureml_py310_sdkv2/lib/python3.10/site-packages (from requests<3.0.0,>=2.19.1->requests[socks]<3.0.0,>=2.19.1->azureml-core~=1.57.0->azureml-pipeline-core~=1.57.0->azureml-pipeline) (3.7)\nRequirement already satisfied: PySocks!=1.5.7,>=1.5.6 in /anaconda/envs/azureml_py310_sdkv2/lib/python3.10/site-packages (from requests[socks]<3.0.0,>=2.19.1->azureml-core~=1.57.0->azureml-pipeline-core~=1.57.0->azureml-pipeline) (1.7.1)\nRequirement already satisfied: jeepney>=0.6 in /anaconda/envs/azureml_py310_sdkv2/lib/python3.10/site-packages (from SecretStorage<4.0.0->azureml-core~=1.57.0->azureml-pipeline-core~=1.57.0->azureml-pipeline) (0.8.0)\nRequirement already satisfied: backports.weakref in /anaconda/envs/azureml_py310_sdkv2/lib/python3.10/site-packages (from backports.tempfile->azureml-core~=1.57.0->azureml-pipeline-core~=1.57.0->azureml-pipeline) (1.0.post1)\nRequirement already satisfied: azureml-dataprep-native<42.0.0,>=41.0.0 in /anaconda/envs/azureml_py310_sdkv2/lib/python3.10/site-packages (from azureml-dataprep<5.2.0a,>=5.1.0a->azureml-dataset-runtime~=1.57.0->azureml-train-automl-client~=1.57.0->azureml-pipeline-steps~=1.57.0->azureml-pipeline) (41.0.0)\nRequirement already satisfied: azureml-dataprep-rslex~=2.22.2dev0 in /anaconda/envs/azureml_py310_sdkv2/lib/python3.10/site-packages (from azureml-dataprep<5.2.0a,>=5.1.0a->azureml-dataset-runtime~=1.57.0->azureml-train-automl-client~=1.57.0->azureml-pipeline-steps~=1.57.0->azureml-pipeline) (2.22.2)\nRequirement already satisfied: cloudpickle<3.0.0,>=1.1.0 in /anaconda/envs/azureml_py310_sdkv2/lib/python3.10/site-packages (from azureml-dataprep<5.2.0a,>=5.1.0a->azureml-dataset-runtime~=1.57.0->azureml-train-automl-client~=1.57.0->azureml-pipeline-steps~=1.57.0->azureml-pipeline) (2.2.1)\nRequirement already satisfied: azure-identity>=1.7.0 in /anaconda/envs/azureml_py310_sdkv2/lib/python3.10/site-packages (from azureml-dataprep<5.2.0a,>=5.1.0a->azureml-dataset-runtime~=1.57.0->azureml-train-automl-client~=1.57.0->azureml-pipeline-steps~=1.57.0->azureml-pipeline) (1.16.0)\nRequirement already satisfied: jsonschema in /anaconda/envs/azureml_py310_sdkv2/lib/python3.10/site-packages (from azureml-dataprep<5.2.0a,>=5.1.0a->azureml-dataset-runtime~=1.57.0->azureml-train-automl-client~=1.57.0->azureml-pipeline-steps~=1.57.0->azureml-pipeline) (4.22.0)\nRequirement already satisfied: cffi>=1.12 in /anaconda/envs/azureml_py310_sdkv2/lib/python3.10/site-packages (from cryptography>=1.1.0->adal<=1.2.7,>=1.2.0->azureml-core~=1.57.0->azureml-pipeline-core~=1.57.0->azureml-pipeline) (1.16.0)\nRequirement already satisfied: zipp>=0.5 in /anaconda/envs/azureml_py310_sdkv2/lib/python3.10/site-packages (from importlib-metadata<=8.2.0->azureml-automl-core~=1.57.0->azureml-train-automl-client~=1.57.0->azureml-pipeline-steps~=1.57.0->azureml-pipeline) (3.19.2)\nRequirement already satisfied: oauthlib>=3.0.0 in /anaconda/envs/azureml_py310_sdkv2/lib/python3.10/site-packages (from requests-oauthlib>=0.5.0->msrest<=0.7.1,>=0.5.1->azureml-core~=1.57.0->azureml-pipeline-core~=1.57.0->azureml-pipeline) (3.2.2)\nRequirement already satisfied: pycparser in /anaconda/envs/azureml_py310_sdkv2/lib/python3.10/site-packages (from cffi>=1.12->cryptography>=1.1.0->adal<=1.2.7,>=1.2.0->azureml-core~=1.57.0->azureml-pipeline-core~=1.57.0->azureml-pipeline) (2.22)\nRequirement already satisfied: attrs>=22.2.0 in /anaconda/envs/azureml_py310_sdkv2/lib/python3.10/site-packages (from jsonschema->azureml-dataprep<5.2.0a,>=5.1.0a->azureml-dataset-runtime~=1.57.0->azureml-train-automl-client~=1.57.0->azureml-pipeline-steps~=1.57.0->azureml-pipeline) (23.2.0)\nRequirement already satisfied: jsonschema-specifications>=2023.03.6 in /anaconda/envs/azureml_py310_sdkv2/lib/python3.10/site-packages (from jsonschema->azureml-dataprep<5.2.0a,>=5.1.0a->azureml-dataset-runtime~=1.57.0->azureml-train-automl-client~=1.57.0->azureml-pipeline-steps~=1.57.0->azureml-pipeline) (2023.12.1)\nRequirement already satisfied: referencing>=0.28.4 in /anaconda/envs/azureml_py310_sdkv2/lib/python3.10/site-packages (from jsonschema->azureml-dataprep<5.2.0a,>=5.1.0a->azureml-dataset-runtime~=1.57.0->azureml-train-automl-client~=1.57.0->azureml-pipeline-steps~=1.57.0->azureml-pipeline) (0.35.1)\nRequirement already satisfied: rpds-py>=0.7.1 in /anaconda/envs/azureml_py310_sdkv2/lib/python3.10/site-packages (from jsonschema->azureml-dataprep<5.2.0a,>=5.1.0a->azureml-dataset-runtime~=1.57.0->azureml-train-automl-client~=1.57.0->azureml-pipeline-steps~=1.57.0->azureml-pipeline) (0.18.1)\nNote: you may need to restart the kernel to use updated packages.\n"
        }
      ],
      "execution_count": 1,
      "metadata": {
        "jupyter": {
          "source_hidden": false,
          "outputs_hidden": false
        },
        "nteract": {
          "transient": {
            "deleting": false
          }
        },
        "gather": {
          "logged": 1724086624989
        }
      }
    },
    {
      "cell_type": "code",
      "source": [
        "from azureml.core import Workspace, Datastore, Experiment, Environment\n",
        "from azureml.core.runconfig import RunConfiguration\n",
        "from azureml.pipeline.steps import PythonScriptStep\n",
        "from azureml.pipeline.core import Pipeline"
      ],
      "outputs": [],
      "execution_count": 2,
      "metadata": {
        "gather": {
          "logged": 1724086625152
        }
      }
    },
    {
      "cell_type": "markdown",
      "source": [
        "# Initialize workspace and compute"
      ],
      "metadata": {
        "nteract": {
          "transient": {
            "deleting": false
          }
        }
      }
    },
    {
      "cell_type": "code",
      "source": [
        "# Initialize workspace\n",
        "ws = Workspace.from_config(\"Users/mypersonall3099/Online_retail/config.json\")\n",
        "\n",
        "# Define compute target\n",
        "compute_name = \"Onlineretail2\"\n",
        "compute_target = ws.compute_targets[compute_name]"
      ],
      "outputs": [],
      "execution_count": 3,
      "metadata": {
        "jupyter": {
          "source_hidden": false,
          "outputs_hidden": false
        },
        "nteract": {
          "transient": {
            "deleting": false
          }
        },
        "gather": {
          "logged": 1724086628367
        }
      }
    },
    {
      "cell_type": "markdown",
      "source": [
        "# Define Environment"
      ],
      "metadata": {
        "nteract": {
          "transient": {
            "deleting": false
          }
        }
      }
    },
    {
      "cell_type": "code",
      "source": [
        "env = Environment.from_conda_specification(name=\"myenv\", file_path=\"environment.yaml\")\n",
        "env.register(workspace=ws)"
      ],
      "outputs": [
        {
          "output_type": "execute_result",
          "execution_count": 4,
          "data": {
            "text/plain": "{\n    \"assetId\": \"azureml://locations/eastus2/workspaces/7ce76f32-f5fe-4dd3-b900-96fb92b58ebb/environments/myenv/versions/10\",\n    \"databricks\": {\n        \"eggLibraries\": [],\n        \"jarLibraries\": [],\n        \"mavenLibraries\": [],\n        \"pypiLibraries\": [],\n        \"rcranLibraries\": []\n    },\n    \"docker\": {\n        \"arguments\": [],\n        \"baseDockerfile\": null,\n        \"baseImage\": \"mcr.microsoft.com/azureml/openmpi4.1.0-ubuntu20.04:20240709.v1\",\n        \"baseImageRegistry\": {\n            \"address\": null,\n            \"password\": null,\n            \"registryIdentity\": null,\n            \"username\": null\n        },\n        \"buildContext\": null,\n        \"enabled\": false,\n        \"platform\": {\n            \"architecture\": \"amd64\",\n            \"os\": \"Linux\"\n        },\n        \"sharedVolumes\": true,\n        \"shmSize\": null\n    },\n    \"environmentVariables\": {\n        \"EXAMPLE_ENV_VAR\": \"EXAMPLE_VALUE\"\n    },\n    \"inferencingStackVersion\": null,\n    \"name\": \"myenv\",\n    \"python\": {\n        \"baseCondaEnvironment\": null,\n        \"condaDependencies\": {\n            \"channels\": [\n                \"defaults\"\n            ],\n            \"dependencies\": [\n                \"python=3.7\",\n                \"scikit-learn\",\n                \"statsmodels\",\n                \"pip\",\n                {\n                    \"pip\": [\n                        \"pmdarima\",\n                        \"azureml-sdk\",\n                        \"azureml-dataset-runtime[fuse, pandas]\",\n                        \"azureml-defaults\",\n                        \"joblib\",\n                        \"scikit-learn\"\n                    ]\n                }\n            ],\n            \"name\": \"myenv\"\n        },\n        \"condaDependenciesFile\": null,\n        \"interpreterPath\": \"python\",\n        \"userManagedDependencies\": false\n    },\n    \"r\": null,\n    \"spark\": {\n        \"packages\": [],\n        \"precachePackages\": true,\n        \"repositories\": []\n    },\n    \"version\": \"10\"\n}"
          },
          "metadata": {}
        }
      ],
      "execution_count": 4,
      "metadata": {
        "jupyter": {
          "source_hidden": false,
          "outputs_hidden": false
        },
        "nteract": {
          "transient": {
            "deleting": false
          }
        },
        "gather": {
          "logged": 1724086629725
        }
      }
    },
    {
      "cell_type": "code",
      "source": [
        "env = Environment.get(workspace=ws, name=\"myenv\")\n",
        "print(env.python.conda_dependencies.serialize_to_string())\n"
      ],
      "outputs": [
        {
          "output_type": "stream",
          "name": "stdout",
          "text": "name: myenv\nchannels:\n- defaults\ndependencies:\n- python=3.7\n- scikit-learn\n- statsmodels\n- pip\n- pip:\n  - pmdarima\n  - azureml-sdk\n  - azureml-dataset-runtime[fuse, pandas]\n  - azureml-defaults\n  - joblib\n  - scikit-learn\n\n"
        }
      ],
      "execution_count": 5,
      "metadata": {
        "jupyter": {
          "source_hidden": false,
          "outputs_hidden": false
        },
        "nteract": {
          "transient": {
            "deleting": false
          }
        },
        "gather": {
          "logged": 1724086630995
        }
      }
    },
    {
      "cell_type": "markdown",
      "source": [
        "# Define run configuration\n"
      ],
      "metadata": {
        "nteract": {
          "transient": {
            "deleting": false
          }
        }
      }
    },
    {
      "cell_type": "code",
      "source": [
        "aml_config = RunConfiguration()\n",
        "aml_config.target = compute_target\n",
        "aml_config.environment = env"
      ],
      "outputs": [],
      "execution_count": 6,
      "metadata": {
        "jupyter": {
          "source_hidden": false,
          "outputs_hidden": false
        },
        "nteract": {
          "transient": {
            "deleting": false
          }
        },
        "gather": {
          "logged": 1724086631168
        }
      }
    },
    {
      "cell_type": "markdown",
      "source": [
        "# Pipeline\n"
      ],
      "metadata": {
        "nteract": {
          "transient": {
            "deleting": false
          }
        }
      }
    },
    {
      "cell_type": "code",
      "source": [
        "read_data = 'data_wrangling.py'\n",
        "prep = 'preprocessing.py'\n",
        "model = 'modelling.py'\n",
        "\n",
        "source_directory = \"\"\n",
        "\n",
        "#Script initialization\n",
        "py_script_run_read = PythonScriptStep(\n",
        "                name='Data Wrangling Step',\n",
        "                script_name = read_data,\n",
        "                compute_target = compute_target,\n",
        "                runconfig = aml_config,\n",
        "                allow_reuse=False)\n",
        "\n",
        "py_script_run_prep = PythonScriptStep(\n",
        "                script_name = prep,\n",
        "                compute_target=compute_target,\n",
        "                source_directory=source_directory,\n",
        "                runconfig = aml_config,\n",
        "                allow_reuse=False)\n",
        "\n",
        "py_script_run_model = PythonScriptStep(\n",
        "                script_name = model,\n",
        "                compute_target=compute_target,\n",
        "                source_directory=source_directory,\n",
        "                runconfig = aml_config,\n",
        "                allow_reuse=False)\n",
        "\n",
        "pipeline_steps = [py_script_run_read, py_script_run_prep, py_script_run_model]\n",
        "pipeline_1 = Pipeline(workspace=ws, steps = pipeline_steps)"
      ],
      "outputs": [],
      "execution_count": 7,
      "metadata": {
        "jupyter": {
          "source_hidden": false,
          "outputs_hidden": false
        },
        "nteract": {
          "transient": {
            "deleting": false
          }
        },
        "gather": {
          "logged": 1724086637410
        }
      }
    },
    {
      "cell_type": "markdown",
      "source": [
        "# Experiment 1\n"
      ],
      "metadata": {
        "nteract": {
          "transient": {
            "deleting": false
          }
        }
      }
    },
    {
      "cell_type": "code",
      "source": [
        "experiment_name = \"Final_expt\"\n",
        "experiment = Experiment(ws, experiment_name)\n",
        "pipeline_run = experiment.submit(pipeline_1)\n",
        "pipeline_run.wait_for_completion(show_output=True)"
      ],
      "outputs": [
        {
          "output_type": "stream",
          "name": "stdout",
          "text": "Created step Data Wrangling Step [9a5e19e2][d2daf72f-35d3-4cad-98cd-33ef0db8c3e4], (This step will run and generate new outputs)\nCreated step preprocessing.py [8ba65955][75a5ee2b-3442-419b-902d-4e5bba868d96], (This step will run and generate new outputs)\nCreated step modelling.py [9d0d442d][fd519635-b495-4f4f-a77d-035a73dbb769], (This step will run and generate new outputs)\nSubmitted PipelineRun 270d3d64-6b86-4b28-9929-c66d031b3cd6\nLink to Azure Machine Learning Portal: https://ml.azure.com/runs/270d3d64-6b86-4b28-9929-c66d031b3cd6?wsid=/subscriptions/d8c4fe8f-f720-48ac-86e8-880576d9cd7a/resourcegroups/OnlineRetail/workspaces/OnlineRetail&tid=f56f1f69-458e-427b-bada-4cba658f7917\nPipelineRunId: 270d3d64-6b86-4b28-9929-c66d031b3cd6\nLink to Azure Machine Learning Portal: https://ml.azure.com/runs/270d3d64-6b86-4b28-9929-c66d031b3cd6?wsid=/subscriptions/d8c4fe8f-f720-48ac-86e8-880576d9cd7a/resourcegroups/OnlineRetail/workspaces/OnlineRetail&tid=f56f1f69-458e-427b-bada-4cba658f7917\nPipelineRun Status: Running\n\n\nStepRunId: 3badcc1a-8f41-45f5-b221-34d42350d2a8\nLink to Azure Machine Learning Portal: https://ml.azure.com/runs/3badcc1a-8f41-45f5-b221-34d42350d2a8?wsid=/subscriptions/d8c4fe8f-f720-48ac-86e8-880576d9cd7a/resourcegroups/OnlineRetail/workspaces/OnlineRetail&tid=f56f1f69-458e-427b-bada-4cba658f7917\nStepRun( modelling.py ) Status: NotStarted\nStepRun( modelling.py ) Status: Running\n"
        }
      ],
      "execution_count": 8,
      "metadata": {
        "jupyter": {
          "source_hidden": false,
          "outputs_hidden": false
        },
        "nteract": {
          "transient": {
            "deleting": false
          }
        },
        "gather": {
          "logged": 1724013771788
        }
      }
    },
    {
      "cell_type": "code",
      "source": [
        "pipeline_run"
      ],
      "outputs": [],
      "execution_count": null,
      "metadata": {
        "jupyter": {
          "source_hidden": false,
          "outputs_hidden": false
        },
        "nteract": {
          "transient": {
            "deleting": false
          }
        },
        "gather": {
          "logged": 1724013806195
        }
      }
    },
    {
      "cell_type": "markdown",
      "source": [
        "# Download the model file from the models folder\n"
      ],
      "metadata": {
        "nteract": {
          "transient": {
            "deleting": false
          }
        }
      }
    },
    {
      "cell_type": "code",
      "source": [
        "# Retrieve the datastore\n",
        "datastore = Datastore.get(ws, 'workspaceblobstore')\n",
        "\n",
        "# Download the model file from the models folder\n",
        "datastore.download(target_path=\"model\", \n",
        "                   prefix=\"models/best_autoarima_model.pkl\",\n",
        "                   overwrite=True,  # Set to True to overwrite existing files\n",
        "                   show_progress=True)\n"
      ],
      "outputs": [
        {
          "output_type": "stream",
          "name": "stdout",
          "text": "Downloading models/best_autoarima_model.pkl\nDownloaded models/best_autoarima_model.pkl, 1 files out of an estimated total of 1\n"
        },
        {
          "output_type": "execute_result",
          "execution_count": 14,
          "data": {
            "text/plain": "1"
          },
          "metadata": {}
        }
      ],
      "execution_count": 14,
      "metadata": {
        "jupyter": {
          "source_hidden": false,
          "outputs_hidden": false
        },
        "nteract": {
          "transient": {
            "deleting": false
          }
        },
        "gather": {
          "logged": 1724013845641
        }
      }
    },
    {
      "cell_type": "markdown",
      "source": [
        "# Registering the model\n"
      ],
      "metadata": {
        "nteract": {
          "transient": {
            "deleting": false
          }
        }
      }
    },
    {
      "cell_type": "code",
      "source": [
        "from azureml.core import Datastore, Workspace, Model\n",
        "\n",
        "model = Model.register(workspace=ws,\n",
        "                       model_name='best_autoarima_model',  # Name of the model in the Azure registry\n",
        "                       model_path=\"model/models/best_autoarima_model.pkl\",  # Path to the downloaded model file\n",
        "                       description=\"Best Auto-ARIMA model for sales forecasting\",\n",
        "                       tags={\"model_type\": \"Auto-ARIMA\", \"framework\": \"pmdarima\"})\n",
        "\n",
        "print(f\"Model registered: {model.name} with version {model.version}\")\n"
      ],
      "outputs": [
        {
          "output_type": "stream",
          "name": "stdout",
          "text": "Registering model best_autoarima_model\nModel registered: best_autoarima_model with version 4\n"
        }
      ],
      "execution_count": 15,
      "metadata": {
        "jupyter": {
          "source_hidden": false,
          "outputs_hidden": false
        },
        "nteract": {
          "transient": {
            "deleting": false
          }
        },
        "gather": {
          "logged": 1724013858011
        }
      }
    },
    {
      "cell_type": "markdown",
      "source": [
        "# Load the model\n"
      ],
      "metadata": {
        "nteract": {
          "transient": {
            "deleting": false
          }
        }
      }
    },
    {
      "cell_type": "code",
      "source": [
        "from azureml.core.model import Model\n",
        "model = Model(ws, name='best_autoarima_model')\n",
        "print(\"Loaded model version:\", model.version)"
      ],
      "outputs": [
        {
          "output_type": "stream",
          "name": "stdout",
          "text": "Loaded model version: 4\n"
        }
      ],
      "execution_count": 16,
      "metadata": {
        "jupyter": {
          "source_hidden": false,
          "outputs_hidden": false
        },
        "nteract": {
          "transient": {
            "deleting": false
          }
        },
        "gather": {
          "logged": 1724013860340
        }
      }
    },
    {
      "cell_type": "markdown",
      "source": [
        "# Deployment\n"
      ],
      "metadata": {
        "nteract": {
          "transient": {
            "deleting": false
          }
        }
      }
    },
    {
      "cell_type": "code",
      "source": [
        "%%writefile score.py\n",
        "import joblib\n",
        "import json\n",
        "import numpy as np\n",
        "import pandas as pd\n",
        "from azureml.core.model import Model\n",
        "\n",
        "def init():\n",
        "    global model_3\n",
        "    model_3_path = Model.get_model_path(model_name='best_autoarima_model')\n",
        "    model_3 = joblib.load(model_3_path)\n",
        "\n",
        "def run(raw_data):\n",
        "    try:\n",
        "        data = json.loads(raw_data)['data']\n",
        "        \n",
        "        data_df = pd.DataFrame(data, columns=['InvoiceDate', 'Sales'])\n",
        "        \n",
        "        sales_data = data_df['Sales'].values\n",
        "        \n",
        "        # Define how many future periods you want to predict\n",
        "        n_periods = 10 \n",
        "        \n",
        "        result_1 = model_3.predict(n_periods=n_periods)\n",
        "        \n",
        "        return {\"predictions\": result_1.tolist()}\n",
        "    except Exception as e:\n",
        "        result = str(e)\n",
        "        return {\"error\": result}\n",
        "\n",
        "\n"
      ],
      "outputs": [
        {
          "output_type": "stream",
          "name": "stdout",
          "text": "Overwriting score.py\n"
        }
      ],
      "execution_count": 70,
      "metadata": {
        "jupyter": {
          "source_hidden": false,
          "outputs_hidden": false
        },
        "nteract": {
          "transient": {
            "deleting": false
          }
        }
      }
    },
    {
      "cell_type": "markdown",
      "source": [
        "# Inferencing the Model"
      ],
      "metadata": {
        "nteract": {
          "transient": {
            "deleting": false
          }
        }
      }
    },
    {
      "cell_type": "code",
      "source": [
        "from azureml.core.model import InferenceConfig\n",
        "\n",
        "inference_config = InferenceConfig(entry_script=\"score.py\", environment=env)"
      ],
      "outputs": [],
      "execution_count": 71,
      "metadata": {
        "jupyter": {
          "source_hidden": false,
          "outputs_hidden": false
        },
        "nteract": {
          "transient": {
            "deleting": false
          }
        },
        "gather": {
          "logged": 1723999775425
        }
      }
    },
    {
      "cell_type": "code",
      "source": [
        "from azureml.core.webservice import AciWebservice\n",
        "\n",
        "aci_service_name = \"aciservice-modelforecasting\"\n",
        "\n",
        "deployment_config = AciWebservice.deploy_configuration(cpu_cores=1, memory_gb=1)\n",
        "\n",
        "service = Model.deploy(ws, aci_service_name, [model], inference_config, deployment_config, overwrite=True)\n",
        "service.wait_for_deployment(True)\n",
        "\n",
        "print(service.state)"
      ],
      "outputs": [
        {
          "output_type": "stream",
          "name": "stderr",
          "text": "/tmp/ipykernel_3474/3772987190.py:7: FutureWarning: azureml.core.model:\nTo leverage new model deployment capabilities, AzureML recommends using CLI/SDK v2 to deploy models as online endpoint, \nplease refer to respective documentations \nhttps://docs.microsoft.com/azure/machine-learning/how-to-deploy-managed-online-endpoints /\nhttps://docs.microsoft.com/azure/machine-learning/how-to-attach-kubernetes-anywhere \nFor more information on migration, see https://aka.ms/acimoemigration \nTo disable CLI/SDK v1 deprecation warning set AZUREML_LOG_DEPRECATION_WARNING_ENABLED to 'False'\n  service = Model.deploy(ws, aci_service_name, [model], inference_config, deployment_config, overwrite=True)\n"
        },
        {
          "output_type": "stream",
          "name": "stdout",
          "text": "Tips: You can try get_logs(): https://aka.ms/debugimage#dockerlog or local deployment: https://aka.ms/debugimage#debug-locally to debug if deployment takes longer than 10 minutes.\nRunning\n2024-08-18 16:49:44+00:00 Creating Container Registry if not exists.\n2024-08-18 16:49:48+00:00 Use the existing image.\n2024-08-18 16:49:50+00:00 Submitting deployment to compute..\n2024-08-18 16:49:53+00:00 Checking the status of deployment aciservice-modelforecasting..\n2024-08-18 16:52:48+00:00 Checking the status of inference endpoint aciservice-modelforecasting.\nSucceeded\nACI service creation operation finished, operation \"Succeeded\"\nHealthy\n"
        }
      ],
      "execution_count": 72,
      "metadata": {
        "jupyter": {
          "source_hidden": false,
          "outputs_hidden": false
        },
        "nteract": {
          "transient": {
            "deleting": false
          }
        },
        "gather": {
          "logged": 1723999975751
        }
      }
    },
    {
      "cell_type": "code",
      "source": [],
      "outputs": [],
      "execution_count": null,
      "metadata": {
        "jupyter": {
          "source_hidden": false,
          "outputs_hidden": false
        },
        "nteract": {
          "transient": {
            "deleting": false
          }
        },
        "gather": {
          "logged": 1724000081850
        }
      }
    },
    {
      "cell_type": "code",
      "source": [],
      "outputs": [],
      "execution_count": null,
      "metadata": {
        "jupyter": {
          "source_hidden": false,
          "outputs_hidden": false
        },
        "nteract": {
          "transient": {
            "deleting": false
          }
        }
      }
    },
    {
      "cell_type": "code",
      "source": [],
      "outputs": [],
      "execution_count": null,
      "metadata": {
        "jupyter": {
          "source_hidden": false,
          "outputs_hidden": false
        },
        "nteract": {
          "transient": {
            "deleting": false
          }
        }
      }
    }
  ],
  "metadata": {
    "kernelspec": {
      "name": "python310-sdkv2",
      "language": "python",
      "display_name": "Python 3.10 - SDK v2"
    },
    "language_info": {
      "name": "python",
      "version": "3.10.14",
      "mimetype": "text/x-python",
      "codemirror_mode": {
        "name": "ipython",
        "version": 3
      },
      "pygments_lexer": "ipython3",
      "nbconvert_exporter": "python",
      "file_extension": ".py"
    },
    "microsoft": {
      "ms_spell_check": {
        "ms_spell_check_language": "en"
      },
      "host": {
        "AzureML": {
          "notebookHasBeenCompleted": true
        }
      }
    },
    "kernel_info": {
      "name": "python310-sdkv2"
    },
    "nteract": {
      "version": "nteract-front-end@1.0.0"
    }
  },
  "nbformat": 4,
  "nbformat_minor": 2
}